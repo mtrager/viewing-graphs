{
 "cells": [
  {
   "cell_type": "markdown",
   "metadata": {},
   "source": [
    "Verify solvability for all minimal viewing graphs with $n \\le 9$ vertices (Table 2 in our paper)."
   ]
  },
  {
   "cell_type": "code",
   "execution_count": 1,
   "metadata": {
    "collapsed": false
   },
   "outputs": [
    {
     "name": "stdout",
     "output_type": "stream",
     "text": [
      "Graph size: [(3, 3), (4, 5), (5, 6), (6, 8), (7, 9), (8, 11), (9, 12)]\n",
      "Connected: [1, 1, 5, 22, 107, 814, 4495]\n",
      "Candidates:  [1, 1, 1, 4, 3, 36, 28]\n",
      "Solvable with moves:  [1, 1, 1, 4, 3, 31, 5]\n",
      "Finite solvable: [1, 1, 1, 4, 3, 36, 27]\n"
     ]
    }
   ],
   "source": [
    "load(\"view-graphs.sage\")\n",
    "\n",
    "size_list=[]\n",
    "connected_list=[]\n",
    "candidates_list=[]\n",
    "solvable_with_moves_list=[]\n",
    "finite_solvable_list=[]\n",
    "\n",
    "for V in range(3,10):\n",
    "    E = ceil((V*11 - 15)/7) # minimum number of edges\n",
    "    \n",
    "    connected=0\n",
    "    candidates=0\n",
    "    solvable_with_moves=0\n",
    "    finite_solvable=0\n",
    "\n",
    "    for g in graphs(V, size=E):\n",
    "        if not (g.is_connected()):\n",
    "            continue\n",
    "        connected+=1\n",
    "        if (non_solving_check(g)==False):\n",
    "            candidates+=1\n",
    "        else: \n",
    "            continue\n",
    "        if (move_completion(g).is_clique()):\n",
    "            solvable_with_moves+=1\n",
    "            finite_solvable+=1\n",
    "            continue\n",
    "        if (degrees_of_freedom(g)==0):\n",
    "            finite_solvable+=1\n",
    "            \n",
    "    size_list.append((V,E))\n",
    "    connected_list.append(connected)\n",
    "    candidates_list.append(candidates)\n",
    "    solvable_with_moves_list.append(solvable_with_moves)\n",
    "    finite_solvable_list.append(finite_solvable)\n",
    "    \n",
    "from IPython.display import clear_output\n",
    "clear_output()\n",
    "\n",
    "print 'Graph size:', size_list\n",
    "print 'Connected:', connected_list\n",
    "print 'Candidates: ', candidates_list\n",
    "print 'Solvable with moves: ', solvable_with_moves_list\n",
    "print 'Finite solvable:', finite_solvable_list\n"
   ]
  }
 ],
 "metadata": {
  "kernelspec": {
   "display_name": "SageMath 8.1",
   "language": "",
   "name": "sagemath"
  },
  "language_info": {
   "codemirror_mode": {
    "name": "ipython",
    "version": 2
   },
   "file_extension": ".py",
   "mimetype": "text/x-python",
   "name": "python",
   "nbconvert_exporter": "python",
   "pygments_lexer": "ipython2",
   "version": "2.7.14"
  }
 },
 "nbformat": 4,
 "nbformat_minor": 2
}
